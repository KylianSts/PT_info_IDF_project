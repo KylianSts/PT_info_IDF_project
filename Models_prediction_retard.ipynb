{
 "cells": [
  {
   "cell_type": "code",
   "execution_count": null,
   "id": "50c7a552",
   "metadata": {},
   "outputs": [],
   "source": [
    "from sklearn.model_selection import train_test_split\n",
    "from sklearn.ensemble import RandomForestRegressor\n",
    "from sklearn.metrics import accuracy_score, classification_report, roc_auc_score\n",
    "from sklearn.model_selection import GridSearchCV\n",
    "\n",
    "import pandas as pd\n",
    "from sqlalchemy import create_engine\n",
    "import os "
   ]
  },
  {
   "cell_type": "markdown",
   "id": "001cf719",
   "metadata": {},
   "source": [
    "# CHARGEMENT DES DONNEES "
   ]
  },
  {
   "cell_type": "code",
   "execution_count": null,
   "id": "2f991d3d",
   "metadata": {},
   "outputs": [],
   "source": [
    "dialect = 'mysql+pymysql'\n",
    "user = 'root'\n",
    "password = os.getenv('mdp_mySQL')\n",
    "host = 'localhost'\n",
    "port = 3306\n",
    "database_idf = 'SNCF_TGV_TER'\n",
    "\n",
    "engine_url = f\"{dialect}://{user}:{password}@{host}:{port}/{database_idf}\"\n",
    "engine = create_engine(engine_url)"
   ]
  },
  {
   "cell_type": "code",
   "execution_count": null,
   "id": "1dac2e2c",
   "metadata": {},
   "outputs": [],
   "source": [
    "df_disruption = pd.read_sql('disruptions_tgv_ter',engine)\n",
    "df_disruption"
   ]
  },
  {
   "cell_type": "code",
   "execution_count": null,
   "id": "2f79da54",
   "metadata": {},
   "outputs": [],
   "source": [
    "df_vehicle = pd.read_sql('vehicle_journeys_tgv_ter', engine)\n",
    "df_vehicle['vehicle_id'] = df_vehicle['vehicle_id'].apply(lambda x: ':'.join(x.split(':')[1:]))\n",
    "df_vehicle"
   ]
  },
  {
   "cell_type": "code",
   "execution_count": null,
   "id": "be2201a4",
   "metadata": {},
   "outputs": [],
   "source": [
    "df_lines = pd.read_sql_table('pt_lines_tgv_ter', engine)\n",
    "df_lines"
   ]
  },
  {
   "cell_type": "markdown",
   "id": "a4a4e6b9",
   "metadata": {},
   "source": [
    "# PREPARATION DES DONNEES "
   ]
  },
  {
   "cell_type": "markdown",
   "id": "6debeefe",
   "metadata": {},
   "source": [
    "## Merge des tables "
   ]
  },
  {
   "cell_type": "markdown",
   "id": "43c8d966",
   "metadata": {},
   "source": [
    "Probleme que je ne comprend pas encore : il y a beaucoup plus de perturbation dans df_vehicle que dans df_disruption"
   ]
  },
  {
   "cell_type": "code",
   "execution_count": null,
   "id": "c8d4ea36",
   "metadata": {},
   "outputs": [],
   "source": [
    "df_merge_inter = pd.merge(df_disruption.drop(['data_date','train_type'],axis=1), df_vehicle, on=['vehicle_id','id_disruption'], how='left')\n",
    "df_merge = pd.merge(df_merge_inter, df_lines.drop('train_type', axis=1), on='route_id', how='left')"
   ]
  },
  {
   "cell_type": "code",
   "execution_count": null,
   "id": "7f5c3ea1",
   "metadata": {},
   "outputs": [],
   "source": [
    "df_merge_clean = df_merge.dropna(subset=['arrival_delay', 'departure_delay'])\n",
    "df_merge_clean"
   ]
  },
  {
   "cell_type": "markdown",
   "id": "9b769252",
   "metadata": {},
   "source": [
    "### Rajout des trajets non perturbé"
   ]
  },
  {
   "cell_type": "code",
   "execution_count": null,
   "id": "88076718",
   "metadata": {},
   "outputs": [],
   "source": [
    "df_vehicle_add = df_vehicle[df_vehicle['id_disruption'].isna()]\n",
    "df_vehicle_add"
   ]
  },
  {
   "cell_type": "code",
   "execution_count": null,
   "id": "fde5afcc",
   "metadata": {
    "scrolled": true
   },
   "outputs": [],
   "source": [
    "df_vehicle_add.info()"
   ]
  },
  {
   "cell_type": "code",
   "execution_count": null,
   "id": "6dbc0c1c",
   "metadata": {},
   "outputs": [],
   "source": [
    "df_final = pd.concat([df_merge_inter, df_vehicle_add], ignore_index=True)\n",
    "df_final"
   ]
  },
  {
   "cell_type": "markdown",
   "id": "6624681d",
   "metadata": {},
   "source": [
    "# RANDOM FOREST (CLASSIFICATION)"
   ]
  },
  {
   "cell_type": "code",
   "execution_count": null,
   "id": "3240dc26",
   "metadata": {},
   "outputs": [],
   "source": []
  }
 ],
 "metadata": {
  "kernelspec": {
   "display_name": "Python 3 (ipykernel)",
   "language": "python",
   "name": "python3"
  },
  "language_info": {
   "codemirror_mode": {
    "name": "ipython",
    "version": 3
   },
   "file_extension": ".py",
   "mimetype": "text/x-python",
   "name": "python",
   "nbconvert_exporter": "python",
   "pygments_lexer": "ipython3",
   "version": "3.11.5"
  }
 },
 "nbformat": 4,
 "nbformat_minor": 5
}
